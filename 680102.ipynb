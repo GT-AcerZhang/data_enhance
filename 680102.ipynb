{
 "cells": [
  {
   "cell_type": "markdown",
   "metadata": {
    "collapsed": false
   },
   "source": [
    "## 任务描述：\n",
    "\n",
    "### ✓代码跑通\n",
    "\n",
    "### 请在 MyCNN类中补全代码，构造卷积神经网络，保证程序跑通。\n",
    "\n",
    "### ✓调优\n",
    "\n",
    "### 思考并动手进行调优，以在验证集上的准确率为评价指标，验证集上准确率越高，得分越高！\n"
   ]
  },
  {
   "cell_type": "markdown",
   "metadata": {
    "collapsed": false
   },
   "source": [
    "## 任务描述：\n",
    "\n",
    "### 如何根据据图像的视觉内容为图像赋予一个语义类别是**图像分类**的目标，也是图像检索、图像内容分析和目标识别等问题的基础。\n",
    "\n",
    "### 本实践旨在通过一个美食分类的案列，让大家理解和掌握如何使用飞桨动态图搭建一个**卷积神经网络**。\n",
    "\n",
    "### 特别提示：本实践所用数据集均来自互联网，请勿用于商务用途。"
   ]
  },
  {
   "cell_type": "code",
   "execution_count": 1,
   "metadata": {
    "collapsed": false
   },
   "outputs": [
    {
     "name": "stderr",
     "output_type": "stream",
     "text": [
      "2020-08-04 10:15:32,452-INFO: font search path ['/opt/conda/envs/python35-paddle120-env/lib/python3.7/site-packages/matplotlib/mpl-data/fonts/ttf', '/opt/conda/envs/python35-paddle120-env/lib/python3.7/site-packages/matplotlib/mpl-data/fonts/afm', '/opt/conda/envs/python35-paddle120-env/lib/python3.7/site-packages/matplotlib/mpl-data/fonts/pdfcorefonts']\n",
      "2020-08-04 10:15:32,808-INFO: generated new fontManager\n"
     ]
    }
   ],
   "source": [
    "import os\n",
    "import zipfile\n",
    "import random\n",
    "import json\n",
    "import paddle\n",
    "import sys\n",
    "import numpy as np\n",
    "from PIL import Image\n",
    "from PIL import ImageEnhance\n",
    "import paddle.fluid as fluid\n",
    "import matplotlib.pyplot as plt\n"
   ]
  },
  {
   "cell_type": "code",
   "execution_count": 2,
   "metadata": {
    "collapsed": false
   },
   "outputs": [],
   "source": [
    "'''\n",
    "参数配置\n",
    "'''\n",
    "train_parameters = {\n",
    "    \"input_size\": [3, 64, 64],                                #输入图片的shape\n",
    "    \"class_dim\": -1,                                          #分类数\n",
    "    \"src_path\":\"data/data42610/foods.zip\",                    #原始数据集路径\n",
    "    \"target_path\":\"/home/aistudio/data_enhance/\",             #要解压的路径\n",
    "    \"train_list_path\": \"/home/aistudio/data_enhance/train.txt\",       #train.txt路径\n",
    "    \"eval_list_path\": \"/home/aistudio/data_enhance/eval.txt\",         #eval.txt路径\n",
    "    \"readme_path\": \"/home/aistudio/data_enhance/readme.json\",         #readme.json路径\n",
    "    \"label_dict\":{},                                          #标签字典\n",
    "    \"num_epochs\": 500,                                         #训练轮数\n",
    "    \"train_batch_size\": 64,                                   #训练时每个批次的大小\n",
    "    \"learning_strategy\": {                                    #优化函数相关的配置\n",
    "        \"lr\": 0.001                                          #超参数学习率\n",
    "    } \n",
    "}"
   ]
  },
  {
   "cell_type": "markdown",
   "metadata": {
    "collapsed": false
   },
   "source": [
    "# **一、数据准备**\n",
    "\n",
    "（1）解压原始数据集\n",
    "\n",
    "（2）按照比例划分训练集与验证集\n",
    "\n",
    "（3）乱序，生成数据列表\n",
    "\n",
    "（4）构造训练数据集提供器和验证数据集提供器"
   ]
  },
  {
   "cell_type": "code",
   "execution_count": 4,
   "metadata": {
    "collapsed": false
   },
   "outputs": [],
   "source": [
    "def unzip_data(src_path,target_path):\n",
    "    '''\n",
    "    解压原始数据集，将src_path路径下的zip包解压至target_path目录下\n",
    "    '''\n",
    "    if(not os.path.isdir(target_path + \"foods\")):     \n",
    "        z = zipfile.ZipFile(src_path, 'r')\n",
    "        z.extractall(path=target_path)\n",
    "        z.close()"
   ]
  },
  {
   "cell_type": "code",
   "execution_count": 5,
   "metadata": {
    "collapsed": false
   },
   "outputs": [],
   "source": [
    "def get_data_list(target_path,train_list_path,eval_list_path):\n",
    "    '''\n",
    "    生成数据列表\n",
    "    '''\n",
    "    #存放所有类别的信息\n",
    "    class_detail = []\n",
    "    #获取所有类别保存的文件夹名称\n",
    "    data_list_path=target_path+\"foods/\"\n",
    "    class_dirs = os.listdir(data_list_path)  \n",
    "    #总的图像数量\n",
    "    all_class_images = 0\n",
    "    #存放类别标签\n",
    "    class_label=0\n",
    "    #存放类别数目\n",
    "    class_dim = 0\n",
    "    #存储要写进eval.txt和train.txt中的内容\n",
    "    trainer_list=[]\n",
    "    eval_list=[]\n",
    "    #读取每个类别\n",
    "    for class_dir in class_dirs:\n",
    "        if class_dir != \".DS_Store\":\n",
    "            class_dim += 1\n",
    "            #每个类别的信息\n",
    "            class_detail_list = {}\n",
    "            eval_sum = 0\n",
    "            trainer_sum = 0\n",
    "            #统计每个类别有多少张图片\n",
    "            class_sum = 0\n",
    "            #获取类别路径 \n",
    "            path = data_list_path  + class_dir\n",
    "            # 获取所有图片\n",
    "            img_paths = os.listdir(path)\n",
    "            for img_path in img_paths:                                  # 遍历文件夹下的每个图片\n",
    "                name_path = path + '/' + img_path                       # 每张图片的路径\n",
    "                if class_sum % 9 == 0:                                  # 每9张图片取一个做验证数据\n",
    "                    eval_sum += 1                                       # test_sum为测试数据的数目\n",
    "                    eval_list.append(name_path + \"\\t%d\" % class_label + \"\\n\")\n",
    "                else:\n",
    "                    trainer_sum += 1 \n",
    "                    trainer_list.append(name_path + \"\\t%d\" % class_label + \"\\n\")#trainer_sum测试数据的数目\n",
    "                class_sum += 1                                          #每类图片的数目\n",
    "                all_class_images += 1                                   #所有类图片的数目\n",
    "             \n",
    "            # 说明的json文件的class_detail数据\n",
    "            class_detail_list['class_name'] = class_dir             #类别名称\n",
    "            class_detail_list['class_label'] = class_label          #类别标签\n",
    "            class_detail_list['class_eval_images'] = eval_sum       #该类数据的测试集数目\n",
    "            class_detail_list['class_trainer_images'] = trainer_sum #该类数据的训练集数目\n",
    "            class_detail.append(class_detail_list)  \n",
    "            #初始化标签列表\n",
    "            train_parameters['label_dict'][str(class_label)] = class_dir\n",
    "            class_label += 1 \n",
    "            \n",
    "    #初始化分类数\n",
    "    train_parameters['class_dim'] = class_dim\n",
    "    \n",
    "    #乱序  \n",
    "    random.shuffle(eval_list)\n",
    "    with open(eval_list_path, 'a') as f:\n",
    "        for eval_image in eval_list:\n",
    "            f.write(eval_image) \n",
    "            \n",
    "    random.shuffle(trainer_list)\n",
    "    with open(train_list_path, 'a') as f2:\n",
    "        for train_image in trainer_list:\n",
    "            f2.write(train_image) \n",
    "\n",
    "    # 说明的json文件信息\n",
    "    readjson = {}\n",
    "    readjson['all_class_name'] = data_list_path                  #文件父目录\n",
    "    readjson['all_class_images'] = all_class_images\n",
    "    readjson['class_detail'] = class_detail\n",
    "    jsons = json.dumps(readjson, sort_keys=True, indent=4, separators=(',', ': '))\n",
    "    with open(train_parameters['readme_path'],'w') as f:\n",
    "        f.write(jsons)\n",
    "    print ('生成数据列表完成！')"
   ]
  },
  {
   "cell_type": "code",
   "execution_count": 6,
   "metadata": {
    "collapsed": false
   },
   "outputs": [],
   "source": [
    "def custom_reader(file_list):\n",
    "    '''\n",
    "    自定义reader\n",
    "    '''\n",
    "    def reader():\n",
    "        with open(file_list, 'r') as f:\n",
    "            lines = [line.strip() for line in f]\n",
    "            for line in lines:\n",
    "                img_path, lab = line.strip().split('\\t')\n",
    "                img = Image.open(img_path) \n",
    "                if img.mode != 'RGB': \n",
    "                    img = img.convert('RGB') \n",
    "                img = img.resize((64, 64), Image.BILINEAR)\n",
    "                img = np.array(img).astype('float32') \n",
    "                img = img.transpose((2, 0, 1))  # HWC to CHW \n",
    "                img = img/255                   # 像素值归一化 \n",
    "                yield img, int(lab) \n",
    "    return reader\n"
   ]
  },
  {
   "cell_type": "code",
   "execution_count": null,
   "metadata": {
    "collapsed": false
   },
   "outputs": [],
   "source": [
    "# print(\"train_list_path=\",train_parameters['train_list_path'])\r\n",
    "# print(\"eval_list_path=\",train_parameters['eval_list_path'])"
   ]
  },
  {
   "cell_type": "code",
   "execution_count": 7,
   "metadata": {
    "collapsed": false
   },
   "outputs": [
    {
     "name": "stdout",
     "output_type": "stream",
     "text": [
      "生成数据列表完成！\n"
     ]
    }
   ],
   "source": [
    "'''\n",
    "参数初始化\n",
    "'''\n",
    "src_path=train_parameters['src_path']\n",
    "target_path=train_parameters['target_path']\n",
    "train_list_path=train_parameters['train_list_path']\n",
    "eval_list_path=train_parameters['eval_list_path']\n",
    "batch_size=train_parameters['train_batch_size']\n",
    "\n",
    "'''\n",
    "解压原始数据到指定路径\n",
    "'''\n",
    "# unzip_data(src_path,target_path)\n",
    "\n",
    "'''\n",
    "划分训练集与验证集，乱序，生成数据列表\n",
    "'''\n",
    "#每次生成数据列表前，首先清空train.txt和eval.txt\n",
    "with open(train_list_path, 'w') as f: \n",
    "    f.seek(0)\n",
    "    f.truncate() \n",
    "with open(eval_list_path, 'w') as f: \n",
    "    f.seek(0)\n",
    "    f.truncate() \n",
    "    \n",
    "#生成数据列表   \n",
    "get_data_list(target_path,train_list_path,eval_list_path)\n",
    "\n",
    "'''\n",
    "构造数据提供器\n",
    "'''\n",
    "train_reader = paddle.batch(custom_reader(train_list_path),\n",
    "                            batch_size=batch_size,\n",
    "                            drop_last=True)\n",
    "eval_reader = paddle.batch(custom_reader(eval_list_path),\n",
    "                            batch_size=batch_size,\n",
    "                            drop_last=True)\n"
   ]
  },
  {
   "cell_type": "markdown",
   "metadata": {
    "collapsed": false
   },
   "source": [
    "### 数据增强"
   ]
  },
  {
   "cell_type": "code",
   "execution_count": null,
   "metadata": {
    "collapsed": false
   },
   "outputs": [
    {
     "name": "stdout",
     "output_type": "stream",
     "text": [
      "Looking in indexes: https://pypi.mirrors.ustc.edu.cn/simple/\n",
      "Collecting Augmentor\n",
      "  Downloading https://mirrors.tuna.tsinghua.edu.cn/pypi/web/packages/cb/79/861f38d5830cff631e30e33b127076bfef8ac98171e51daa06df0118c75f/Augmentor-0.2.8-py2.py3-none-any.whl\n",
      "Collecting Pillow>=5.2.0 (from Augmentor)\n",
      "\u001b[?25l  Downloading https://mirrors.tuna.tsinghua.edu.cn/pypi/web/packages/e8/f2/6722dd0c22e3a143ac792ccb2424924ac72af4adea756b1165b4cad50da7/Pillow-7.2.0-cp37-cp37m-manylinux1_x86_64.whl (2.2MB)\n",
      "\u001b[K     |████████████████████████████████| 2.2MB 40.6MB/s eta 0:00:01\n",
      "\u001b[?25hCollecting tqdm>=4.9.0 (from Augmentor)\n",
      "\u001b[?25l  Downloading https://mirrors.tuna.tsinghua.edu.cn/pypi/web/packages/af/88/7b0ea5fa8192d1733dea459a9e3059afc87819cb4072c43263f2ec7ab768/tqdm-4.48.0-py2.py3-none-any.whl (67kB)\n",
      "\u001b[K     |████████████████████████████████| 71kB 29.5MB/s eta 0:00:01\n",
      "\u001b[?25hCollecting future>=0.16.0 (from Augmentor)\n",
      "\u001b[?25l  Downloading https://mirrors.tuna.tsinghua.edu.cn/pypi/web/packages/45/0b/38b06fd9b92dc2b68d58b75f900e97884c45bedd2ff83203d933cf5851c9/future-0.18.2.tar.gz (829kB)\n",
      "\u001b[K     |████████████████████████████████| 829kB 47.5MB/s eta 0:00:01\n",
      "\u001b[?25hCollecting numpy>=1.11.0 (from Augmentor)\n",
      "\u001b[?25l  Downloading https://mirrors.tuna.tsinghua.edu.cn/pypi/web/packages/50/8f/29d5688614f9bba59931683d5d353d738d4a3007833219ee19c455732753/numpy-1.19.1-cp37-cp37m-manylinux2010_x86_64.whl (14.5MB)\n",
      "\u001b[K     |████████████████████████████████| 14.5MB 42kB/s eta 0:00:011\n",
      "\u001b[?25hBuilding wheels for collected packages: future\n",
      "  Building wheel for future (setup.py) ... \u001b[?25ldone\n",
      "\u001b[?25h  Created wheel for future: filename=future-0.18.2-cp37-none-any.whl size=491057 sha256=3bc91236b405bef3ed01ddcc7c2bc28234a4451ef89a32e91f85ba4eb3cdd13e\n",
      "  Stored in directory: /home/aistudio/.cache/pip/wheels/34/9b/34/e1d0f9b7eadcdeaab3db7a0257f96f0547a25ce9db842d518c\n",
      "Successfully built future\n",
      "Installing collected packages: Pillow, tqdm, future, numpy, Augmentor\n",
      "Successfully installed Augmentor-0.2.8 Pillow-7.2.0 future-0.18.2 numpy-1.19.1 tqdm-4.48.0\n"
     ]
    }
   ],
   "source": [
    "!mkdir /home/aistudio/external-libraries\r\n",
    "!pip install Augmentor -t /home/aistudio/external-libraries"
   ]
  },
  {
   "cell_type": "markdown",
   "metadata": {
    "collapsed": false
   },
   "source": [
    "#### 计算文件夹中样本个数和样本名称列表"
   ]
  },
  {
   "cell_type": "code",
   "execution_count": 8,
   "metadata": {
    "collapsed": false
   },
   "outputs": [],
   "source": [
    "def number_of_variation_sample(folder_path):\r\n",
    "    num_dirs = 0 #路径下文件夹数量\r\n",
    "    num_files = 0 #路径下文件数量(包括文件夹)\r\n",
    "    num_files_rec = 0 #路径下文件数量,包括子文件夹里的文件数量，不包括空文件夹\r\n",
    "    file_list = []\r\n",
    "    for root,dirs,files in os.walk(folder_path):\r\n",
    "        for each in files:\r\n",
    "            if each[-2:] == '.o':\r\n",
    "                # print(root,dirs,each)\r\n",
    "                num_files_rec += 1\r\n",
    "        for name in dirs:\r\n",
    "                num_dirs += 1\r\n",
    "                # print(os.path.join(root,name))\r\n",
    "    for fn in os.listdir(folder_path):\r\n",
    "        num_files += 1\r\n",
    "        file_list.append(fn)\r\n",
    "    return num_files,file_list"
   ]
  },
  {
   "cell_type": "markdown",
   "metadata": {
    "collapsed": false
   },
   "source": [
    "#### 获取当前路径"
   ]
  },
  {
   "cell_type": "code",
   "execution_count": 9,
   "metadata": {
    "collapsed": false
   },
   "outputs": [
    {
     "name": "stdout",
     "output_type": "stream",
     "text": [
      "/home/aistudio\n",
      "/home/aistudio/data_enhance/foods\n"
     ]
    }
   ],
   "source": [
    "import os\r\n",
    "path = os.getcwd()    #获取当前路径\r\n",
    "print(path)\r\n",
    "# 匹配目标路径\r\n",
    "tar_path = \"/data_enhance/foods\"\r\n",
    "tar_path = path + tar_path\r\n",
    "# 数据集路径\r\n",
    "print(tar_path)"
   ]
  },
  {
   "cell_type": "code",
   "execution_count": 10,
   "metadata": {
    "collapsed": false
   },
   "outputs": [
    {
     "name": "stdout",
     "output_type": "stream",
     "text": [
      "6 ['beef_tartare', 'baklava', 'apple_pie', 'beef_carpaccio', 'baby_back_ribs', '.ipynb_checkpoints']\n"
     ]
    }
   ],
   "source": [
    "food_directory_num,food_directory_list = number_of_variation_sample(tar_path)\r\n",
    "print(food_directory_num,food_directory_list)"
   ]
  },
  {
   "cell_type": "markdown",
   "metadata": {
    "collapsed": false
   },
   "source": [
    "#### 遍历增强"
   ]
  },
  {
   "cell_type": "code",
   "execution_count": 11,
   "metadata": {
    "collapsed": false
   },
   "outputs": [
    {
     "data": {
      "text/plain": [
       "'/home/aistudio'"
      ]
     },
     "execution_count": 11,
     "metadata": {},
     "output_type": "execute_result"
    }
   ],
   "source": [
    "os.getcwd()"
   ]
  },
  {
   "cell_type": "code",
   "execution_count": 12,
   "metadata": {
    "collapsed": false
   },
   "outputs": [],
   "source": [
    "import sys\r\n",
    "sys.path.append('/home/aistudio/external-libraries')"
   ]
  },
  {
   "cell_type": "code",
   "execution_count": 13,
   "metadata": {
    "collapsed": false
   },
   "outputs": [],
   "source": [
    "import Augmentor"
   ]
  },
  {
   "cell_type": "code",
   "execution_count": null,
   "metadata": {
    "collapsed": false
   },
   "outputs": [
    {
     "name": "stderr",
     "output_type": "stream",
     "text": [
      "Processing <PIL.JpegImagePlugin.JpegImageFile image mode=RGB size=512x512 at 0x7F70385D7450>: 100%|██████████| 20/20 [00:00<00:00, 363.42 Samples/s]\n"
     ]
    },
    {
     "name": "stdout",
     "output_type": "stream",
     "text": [
      "Initialised with 4 image(s) found.\n",
      "Output directory set to data_enhance/foods/test/output."
     ]
    }
   ],
   "source": [
    "# test\r\n",
    "import Augmentor \r\n",
    "p=Augmentor.Pipeline('data_enhance/foods/test')\r\n",
    "p.rotate90(probability=0.5)\r\n",
    "p.sample(20)"
   ]
  },
  {
   "cell_type": "code",
   "execution_count": null,
   "metadata": {
    "collapsed": false
   },
   "outputs": [
    {
     "name": "stderr",
     "output_type": "stream",
     "text": [
      "Executing Pipeline:   0%|          | 0/1000 [00:00<?, ? Samples/s]"
     ]
    },
    {
     "name": "stdout",
     "output_type": "stream",
     "text": [
      "Initialised with 1000 image(s) found.\n",
      "Output directory set to /home/aistudio/data_enhance/foods/apple_pie/output."
     ]
    },
    {
     "name": "stderr",
     "output_type": "stream",
     "text": [
      "Processing <PIL.Image.Image image mode=RGB size=384x512 at 0x7F70396E94D0>: 100%|██████████| 1000/1000 [00:30<00:00, 32.97 Samples/s]\n",
      "Executing Pipeline:   0%|          | 0/1000 [00:00<?, ? Samples/s]"
     ]
    },
    {
     "name": "stdout",
     "output_type": "stream",
     "text": [
      "Initialised with 1000 image(s) found.\n",
      "Output directory set to /home/aistudio/data_enhance/foods/beef_tartare/output."
     ]
    },
    {
     "name": "stderr",
     "output_type": "stream",
     "text": [
      "Processing <PIL.Image.Image image mode=RGB size=512x512 at 0x7F703852AB90>: 100%|██████████| 1000/1000 [00:30<00:00, 32.77 Samples/s]\n",
      "Executing Pipeline:   0%|          | 0/1000 [00:00<?, ? Samples/s]"
     ]
    },
    {
     "name": "stdout",
     "output_type": "stream",
     "text": [
      "Initialised with 1000 image(s) found.\n",
      "Output directory set to /home/aistudio/data_enhance/foods/beef_carpaccio/output."
     ]
    },
    {
     "name": "stderr",
     "output_type": "stream",
     "text": [
      "Processing <PIL.Image.Image image mode=RGB size=512x512 at 0x7F703935EAD0>: 100%|██████████| 1000/1000 [00:31<00:00, 32.25 Samples/s]\n",
      "Executing Pipeline:   0%|          | 0/1000 [00:00<?, ? Samples/s]"
     ]
    },
    {
     "name": "stdout",
     "output_type": "stream",
     "text": [
      "Initialised with 1000 image(s) found.\n",
      "Output directory set to /home/aistudio/data_enhance/foods/baklava/output."
     ]
    },
    {
     "name": "stderr",
     "output_type": "stream",
     "text": [
      "Processing <PIL.Image.Image image mode=RGB size=512x384 at 0x7F7039590750>: 100%|██████████| 1000/1000 [00:30<00:00, 33.31 Samples/s]\n",
      "Executing Pipeline:   0%|          | 0/1000 [00:00<?, ? Samples/s]"
     ]
    },
    {
     "name": "stdout",
     "output_type": "stream",
     "text": [
      "Initialised with 1000 image(s) found.\n",
      "Output directory set to /home/aistudio/data_enhance/foods/baby_back_ribs/output."
     ]
    },
    {
     "name": "stderr",
     "output_type": "stream",
     "text": [
      "Processing <PIL.Image.Image image mode=RGB size=382x512 at 0x7F70395C70D0>: 100%|██████████| 1000/1000 [00:30<00:00, 33.12 Samples/s]\n"
     ]
    }
   ],
   "source": [
    "import Augmentor \r\n",
    "# 进入每个食物种类的文件夹\r\n",
    "for i in range (food_directory_num):\r\n",
    "    # print(file_list[i])\r\n",
    "    new_path = os.getcwd() + os.sep + 'data_enhance'+os.sep+'foods'+os.sep+food_directory_list[i]\r\n",
    "    # num_files,file_list = number_of_variation_sample(new_path)\r\n",
    "    # 初始状态每个种类1000张图片\r\n",
    "    # print(num_files)\r\n",
    "    p=Augmentor.Pipeline(new_path)  #设置路径\r\n",
    "\r\n",
    "    p.rotate90(probability=0.5)  #逆时针随机旋转90度\r\n",
    "    p.rotate270(probability=0.5)  #顺时针随机旋转90度\r\n",
    "    p.random_distortion(probability=1,grid_height=5,grid_width=16,magnitude=8)  #弹性扭曲，类似区域扭曲的感觉\r\n",
    "    p.shear(probability=1,max_shear_left=15,max_shear_right=15) # 错切变换\r\n",
    "    p.skew_tilt(probability=0.7,magnitude=1) #透视形变-垂直方向形变\r\n",
    "    p.random_erasing(probability=1,rectangle_area=0.5) # 随机区域擦除\r\n",
    "    p.sample(1000)"
   ]
  },
  {
   "cell_type": "markdown",
   "metadata": {
    "collapsed": false
   },
   "source": [
    "#### 每个种类的食物的数据集数量增加1倍"
   ]
  },
  {
   "cell_type": "markdown",
   "metadata": {
    "collapsed": false
   },
   "source": [
    "# **二、模型配置**\n",
    "\n",
    "## ###在以下cell中完成卷积神经网络的定义###\n",
    "\n"
   ]
  },
  {
   "cell_type": "code",
   "execution_count": null,
   "metadata": {
    "collapsed": false
   },
   "outputs": [],
   "source": [
    "\n",
    "#定义网络\n",
    "class MyCNN(fluid.dygraph.Layer):\n",
    "    '''\n",
    "    卷积神经网络\n",
    "    '''\n",
    "    def __init__(self):\n",
    "        super(MyCNN,self).__init__()\n",
    "\n",
    "\n",
    "        \n",
    "    def forward(self,input):\n",
    "       \"\"\"前向计算\"\"\"\n",
    "       "
   ]
  },
  {
   "cell_type": "markdown",
   "metadata": {
    "collapsed": false
   },
   "source": [
    "### Mycnn"
   ]
  },
  {
   "cell_type": "code",
   "execution_count": 14,
   "metadata": {
    "collapsed": false
   },
   "outputs": [],
   "source": [
    "from paddle.fluid.dygraph import Conv2D, Pool2D, Linear, Dropout, BatchNorm\r\n",
    "from paddle.fluid.dygraph.base import to_variable\r\n",
    "import paddle.fluid as fluid\r\n",
    "from paddle.fluid.dygraph import Conv2D\r\n",
    "from paddle.fluid.dygraph import Pool2D\r\n",
    "import numpy as np"
   ]
  },
  {
   "cell_type": "code",
   "execution_count": 15,
   "metadata": {
    "collapsed": false
   },
   "outputs": [],
   "source": [
    "class CNN_LeakyRelu(fluid.dygraph.Layer):\r\n",
    "    def __init__(self, name_scope, num_classes=1):\r\n",
    "        super(CNN_LeakyRelu, self).__init__(name_scope)\r\n",
    "        name_scope = self.full_name()\r\n",
    "\r\n",
    "        self.conv1 = Conv2D(3, 64, 5, padding=2, stride=1, act='leaky_relu')\r\n",
    "        self.bn1 = BatchNorm(64)\r\n",
    "        \r\n",
    "        self.conv2 = Conv2D(64, 128, 5,padding=2, stride=1, act='leaky_relu')\r\n",
    "        self.bn2 = BatchNorm(128)\r\n",
    "\r\n",
    "        self.conv3 = Conv2D(128, 256, 3, padding=1, stride=1, act='leaky_relu')\r\n",
    "        self.bn3 = BatchNorm(256)\r\n",
    "        self.conv4 = Conv2D(256, 512, 3, padding=1, stride=1, act='leaky_relu')\r\n",
    "        self.bn4 = BatchNorm(512)\r\n",
    "        self.conv5 = Conv2D(512, 1024, 5, padding=2, stride=1, act='leaky_relu')\r\n",
    "        self.bn5 = BatchNorm(1024)\r\n",
    "        self.conv6 = Conv2D(1024, 1024, 5, padding=2, stride=1, act='leaky_relu')\r\n",
    "        self.bn6 = BatchNorm(1024)\r\n",
    "\r\n",
    "        self.fc1 = Linear(512 * 4 * 4, 1024, act='leaky_relu')\r\n",
    "        self.fc2 = Linear(1024, 1024, act='leaky_relu')\r\n",
    "        self.fc3 = Linear(1024, 5,act='softmax')\r\n",
    "\r\n",
    "        self.pool_down = Pool2D(pool_size=2, pool_stride=2, pool_type='max')\r\n",
    "\r\n",
    "    # 网络的前向计算过程\r\n",
    "    def forward(self, x):\r\n",
    "        x = self.conv1(x)\r\n",
    "        # print(\"conv1 \",x.shape)\r\n",
    "        x = self.bn1(x)\r\n",
    "        x = self.pool_down(x)\r\n",
    "        # print(\"cone1_pool\",x.shape)\r\n",
    "        x = self.conv2(x)\r\n",
    "        x = self.bn2(x)\r\n",
    "        # print(\"conv2\",x.shape)\r\n",
    "        x = self.pool_down(x)\r\n",
    "        # print(\"cone2_pool\",x.shape)\r\n",
    "        x = self.conv3(x)\r\n",
    "        x = self.bn3(x)\r\n",
    "        # print(\"conv3\",x.shape)\r\n",
    "        x = self.pool_down(x)\r\n",
    "        x = self.conv4(x)\r\n",
    "        # print(\"conv4\",x.shape)\r\n",
    "        x = self.bn4(x)\r\n",
    "        x = self.pool_down(x)\r\n",
    "        # print(\"conv4_pool\",x.shape)\r\n",
    "        # x = self.conv5(x)\r\n",
    "        # print(\"conv5\",x.shape)\r\n",
    "        # x = self.bn5(x)\r\n",
    "        # x = self.pool_down(x)\r\n",
    "        # print(\"conv5_pool\",x.shape)\r\n",
    "        # x = self.conv6(x)\r\n",
    "        # x = self.bn6(x)\r\n",
    "\r\n",
    "        x = fluid.layers.reshape(x, [-1, 512 * 4 * 4])\r\n",
    "        # print(\"x\",x.shape)\r\n",
    "        x = self.fc1(x)\r\n",
    "        x = fluid.layers.dropout(x, 0.5)\r\n",
    "        # print('FC1',x.shape)\r\n",
    "        x = self.fc2(x)\r\n",
    "        x = fluid.layers.dropout(x, 0.5)\r\n",
    "        # print('FC2',x.shape)\r\n",
    "        x = self.fc3(x)\r\n",
    "        # print('FC3',x.shape)\r\n",
    "\r\n",
    "        return x"
   ]
  },
  {
   "cell_type": "markdown",
   "metadata": {
    "collapsed": false
   },
   "source": [
    "# **三、模型训练 && 四、模型评估**"
   ]
  },
  {
   "cell_type": "code",
   "execution_count": 16,
   "metadata": {
    "collapsed": false
   },
   "outputs": [],
   "source": [
    "all_train_iter=0\n",
    "all_train_iters=[]\n",
    "all_train_costs=[]\n",
    "all_train_accs=[]\n",
    "\n",
    "def draw_train_process(title,iters,costs,accs,label_cost,lable_acc):\n",
    "    plt.title(title, fontsize=24)\n",
    "    plt.xlabel(\"iter\", fontsize=20)\n",
    "    plt.ylabel(\"loss/acc\", fontsize=20)\n",
    "    plt.plot(iters, costs,color='red',label=label_cost) \n",
    "    plt.plot(iters, accs,color='green',label=lable_acc) \n",
    "    plt.legend()\n",
    "    plt.grid()\n",
    "    plt.show()\n",
    "\n",
    "\n",
    "def draw_process(title,color,iters,data,label):\n",
    "    plt.title(title, fontsize=24)\n",
    "    plt.xlabel(\"iter\", fontsize=20)\n",
    "    plt.ylabel(label, fontsize=20)\n",
    "    plt.plot(iters, data,color=color,label=label) \n",
    "    plt.legend()\n",
    "    plt.grid()\n",
    "    plt.show()"
   ]
  },
  {
   "cell_type": "code",
   "execution_count": 17,
   "metadata": {
    "collapsed": false
   },
   "outputs": [
    {
     "name": "stdout",
     "output_type": "stream",
     "text": [
      "train_parameters['class_dim'] 6\n"
     ]
    }
   ],
   "source": [
    "print(\"train_parameters['class_dim']\",train_parameters['class_dim'])"
   ]
  },
  {
   "cell_type": "markdown",
   "metadata": {
    "collapsed": false
   },
   "source": [
    "### 保存"
   ]
  },
  {
   "cell_type": "code",
   "execution_count": 18,
   "metadata": {
    "collapsed": false
   },
   "outputs": [
    {
     "name": "stdout",
     "output_type": "stream",
     "text": [
      "Final loss: [0.0002066]\r"
     ]
    }
   ],
   "source": [
    "'''\n",
    "模型训练\n",
    "'''\n",
    "#place=fluid.CUDAPlace(0)表示使用GPU进行训练；不设置表示使用CPU进行训练\n",
    "with fluid.dygraph.guard(place = fluid.CUDAPlace(0)):\n",
    "    print(train_parameters['class_dim'])\n",
    "    print(train_parameters['label_dict'])\n",
    "\n",
    "    cnn = CNN_LeakyRelu(\"CNN_LeakyRelu\",5)\n",
    "\n",
    "    # optimizer=fluid.optimizer.AdamOptimizer(learning_rate=train_parameters['learning_strategy']['lr'], parameter_list=cnn.parameters()) \n",
    "\n",
    "    # 加载已有模型\n",
    "    if True:        \n",
    "        try:\n",
    "            if os.path.exists('MyCNN1.pdparams'):\n",
    "                print('try model file MyCNN1.pdparams. Loading...')\n",
    "                model_dict, _ = fluid.load_dygraph('MyCNN1')        \n",
    "            else:\n",
    "                print('try model file MyCNN1.pdparams. Loading...')\n",
    "                model_dict, _ = fluid.load_dygraph('MyCNN1')        \n",
    "            cnn.load_dict(model_dict) #加载模型参数  \n",
    "            print('model initialization finished.')\n",
    "        except Exception as e:\n",
    "            print('model initialization error found:')                 \n",
    "            print(e)     \n",
    "\n",
    "\n",
    "    boundaries = [5000, 10000, 20000, 25000]\n",
    "    values = [0.05, 0.001, 0.0005, 0.0001]\n",
    "    opt=fluid.optimizer.SGDOptimizer(learning_rate=fluid.dygraph.PiecewiseDecay(boundaries, values, 0), parameter_list=cnn.parameters())  # 优化器选用SGD随机梯度下降，学习率为0.01.\n",
    "    # opt=fluid.optimizer.SGDOptimizer(learning_rate=0.001, parameter_list=cnn.parameters())  # 优化器选用SGD随机梯度下降，学习率为0.01.\n",
    "\n",
    "    cnn.train()\n",
    "    for epoch_num in range(100):\n",
    "        for batch_id, data in enumerate(train_reader()):\n",
    "            dy_x_data = np.array([item[0] for item in data], dtype='float32').reshape(-1, 3, 64, 64)\n",
    "            y_data = np.array([item[1] for item in data], dtype='int64').reshape(-1, 1)\n",
    "\n",
    "            #将Numpy转换为DyGraph接收的输入\n",
    "            img = fluid.dygraph.to_variable(dy_x_data)\n",
    "            label = fluid.dygraph.to_variable(y_data)\n",
    "            # print(\"label.shape\",label.shape)\n",
    "            out = cnn(img)\n",
    "            # print(\"out.shape\",out.shape)\n",
    "            #计算精度和损失\n",
    "            acc=fluid.layers.accuracy(out,label)#计算精度\n",
    "            loss = fluid.layers.cross_entropy(out, label)\n",
    "            avg_loss = fluid.layers.mean(loss)\n",
    "\n",
    "            #使用backward()方法可以执行反向网络\n",
    "            avg_loss.backward()\n",
    "            opt.minimize(avg_loss)\n",
    "             \n",
    "            #将参数梯度清零以保证下一轮训练的正确性\n",
    "            cnn.clear_gradients()\n",
    "            \n",
    "            # all_train_iter=all_train_iter+train_parameters['train_batch_size']\n",
    "            # all_train_iters.append(all_train_iter)\n",
    "            # all_train_costs.append(loss.numpy()[0])\n",
    "            # all_train_accs.append(acc.numpy()[0])\n",
    "                \n",
    "            if batch_id % 10 == 0:\n",
    "                print(\"Loss at epoch {} step {}: {}, acc: {}\".format(epoch_num, batch_id, avg_loss.numpy(), acc.numpy()))\n",
    "\n",
    "\n",
    "        # if epoch_num % 2 == 0:\n",
    "        #     fluid.save_dygraph(cnn.state_dict(),'MyCNN2')#保存模型\n",
    "        #     accs = []\n",
    "            \n",
    "        #     model, _ = fluid.load_dygraph(\"MyCNN2\")\n",
    "        #     cnn = CNN_LeakyRelu(\"CNN_LeakyRelu\",5)\n",
    "        #     cnn.load_dict(model)\n",
    "        #     cnn.eval()\n",
    "    \n",
    "        #     for batch_id, data in enumerate(eval_reader()):\n",
    "        #         dy_x_data = np.array([item[0] for item in data], dtype='float32').reshape(-1, 3, 64, 64)\n",
    "        #         y_data = np.array([item[1] for item in data], dtype='int64').reshape(-1, 1)\n",
    "        \n",
    "        #         img = fluid.dygraph.to_variable(dy_x_data)\n",
    "        #         label = fluid.dygraph.to_variable(y_data)\n",
    "\n",
    "        #         out = cnn(img)\n",
    "        #         acc=fluid.layers.accuracy(out,label)#计算精度\n",
    "        #         lab = np.argsort(out.numpy())\n",
    "        #         accs.append(acc.numpy()[0])\n",
    "        # print(\"model.eval===============> \",np.mean(accs))\n",
    "\n",
    "    # draw_train_process(\"training\",all_train_iters,all_train_costs,all_train_accs,\"trainning loss\",\"trainning acc\")  \n",
    "    # draw_process(\"trainning loss\",\"red\",all_train_iters,all_train_costs,\"trainning loss\")\n",
    "    # draw_process(\"trainning acc\",\"green\",all_train_iters,all_train_accs,\"trainning acc\")\n",
    "    #保存模型参数\n",
    "    fluid.save_dygraph(cnn.state_dict(), \"MyCNN2\")   \n",
    "    print(\"Final loss: {}\".format(avg_loss.numpy()))\n"
   ]
  },
  {
   "cell_type": "markdown",
   "metadata": {
    "collapsed": false
   },
   "source": [
    "#### 设置校验集和测试集"
   ]
  },
  {
   "cell_type": "code",
   "execution_count": 19,
   "metadata": {
    "collapsed": false
   },
   "outputs": [
    {
     "name": "stdout",
     "output_type": "stream",
     "text": [
      "0.7224265\n"
     ]
    }
   ],
   "source": [
    "'''\n",
    "模型校验\n",
    "'''\n",
    "with fluid.dygraph.guard():\n",
    "    model, _ = fluid.load_dygraph(\"MyCNN2\")\n",
    "    cnn = CNN_LeakyRelu(\"CNN_LeakyRelu\",5)\n",
    "    cnn.load_dict(model)\n",
    "    cnn.eval()\n",
    "    accs = []\n",
    "    for batch_id, data in enumerate(eval_reader()):\n",
    "        dy_x_data = np.array([item[0] for item in data], dtype='float32').reshape(-1, 3, 64, 64)\n",
    "        y_data = np.array([item[1] for item in data], dtype='int64').reshape(-1, 1)\n",
    "        \n",
    "        img = fluid.dygraph.to_variable(dy_x_data)\n",
    "        label = fluid.dygraph.to_variable(y_data)\n",
    "\n",
    "        out = cnn(img)\n",
    "        acc=fluid.layers.accuracy(out,label)#计算精度\n",
    "        lab = np.argsort(out.numpy())\n",
    "        accs.append(acc.numpy()[0])\n",
    "print(np.mean(accs))"
   ]
  },
  {
   "cell_type": "markdown",
   "metadata": {
    "collapsed": false
   },
   "source": [
    "### MyCNN1    acc 0.640625  预测正确"
   ]
  },
  {
   "cell_type": "markdown",
   "metadata": {
    "collapsed": false
   },
   "source": [
    "# **五、模型预测**"
   ]
  },
  {
   "cell_type": "code",
   "execution_count": null,
   "metadata": {
    "collapsed": false
   },
   "outputs": [
    {
     "data": {
      "image/png": "[encoded data removed]",
      "text/plain": [
       "<Figure size 432x288 with 1 Axes>"
      ]
     },
     "metadata": {},
     "output_type": "display_data"
    },
    {
     "name": "stdout",
     "output_type": "stream",
     "text": [
      "第1个样本,被预测为：baklava\n",
      "结束\n"
     ]
    }
   ],
   "source": [
    "import os\n",
    "import zipfile\n",
    "\n",
    "def unzip_infer_data(src_path,target_path):\n",
    "    '''\n",
    "    解压预测数据集\n",
    "    '''\n",
    "    if(not os.path.isdir(target_path + \"foods\")):     \n",
    "        z = zipfile.ZipFile(src_path, 'r')\n",
    "        z.extractall(path=target_path)\n",
    "        z.close()\n",
    "\n",
    "\n",
    "def load_image(img_path):\n",
    "    '''\n",
    "    预测图片预处理\n",
    "    '''\n",
    "    img = Image.open(img_path) \n",
    "    if img.mode != 'RGB': \n",
    "        img = img.convert('RGB') \n",
    "    img = img.resize((64, 64), Image.BILINEAR)\n",
    "    img = np.array(img).astype('float32') \n",
    "    img = img.transpose((2, 0, 1))  # HWC to CHW \n",
    "    img = img/255                   # 像素值归一化 \n",
    "    return img\n",
    "\n",
    "\n",
    "infer_src_path = '/home/aistudio/data/data42610/foods.zip'\n",
    "infer_dst_path = '/home/aistudio/data/'\n",
    "unzip_infer_data(infer_src_path,infer_dst_path)\n",
    "\n",
    "label_dic = train_parameters['label_dict']\n",
    "\n",
    "'''\n",
    "模型预测\n",
    "'''\n",
    "with fluid.dygraph.guard():\n",
    "    model, _ = fluid.dygraph.load_dygraph(\"MyCNN1\")\n",
    "    cnn = CNN_LeakyRelu(\"CNN_LeakyRelu\",5)\n",
    "    cnn.load_dict(model)\n",
    "    cnn.eval()\n",
    "    \n",
    "    #展示预测图片\n",
    "    infer_path='work/infer_apple_pie.jpg'\n",
    "    img = Image.open(infer_path)\n",
    "    plt.imshow(img)          #根据数组绘制图像\n",
    "    plt.show()               #显示图像\n",
    "\n",
    "    #对预测图片进行预处理\n",
    "    infer_imgs = []\n",
    "    infer_imgs.append(load_image(infer_path))\n",
    "    infer_imgs = np.array(infer_imgs)\n",
    "   \n",
    "    for  i in range(len(infer_imgs)):\n",
    "        data = infer_imgs[i]\n",
    "        dy_x_data = np.array(data).astype('float32')\n",
    "        dy_x_data=dy_x_data[np.newaxis,:, : ,:]\n",
    "        img = fluid.dygraph.to_variable(dy_x_data)\n",
    "        out = cnn(img)\n",
    "        lab = np.argmax(out.numpy())  #argmax():返回最大数的索引\n",
    "        print(\"第{}个样本,被预测为：{}\".format(i+1,label_dic[str(lab)]))\n",
    "        \n",
    "print(\"结束\")\n"
   ]
  }
 ],
 "metadata": {
  "kernelspec": {
   "display_name": "PaddlePaddle 1.8.0 (Python 3.5)",
   "language": "python",
   "name": "py35-paddle1.2.0"
  },
  "language_info": {
   "codemirror_mode": {
    "name": "ipython",
    "version": 3
   },
   "file_extension": ".py",
   "mimetype": "text/x-python",
   "name": "python",
   "nbconvert_exporter": "python",
   "pygments_lexer": "ipython3",
   "version": "3.7.4"
  }
 },
 "nbformat": 4,
 "nbformat_minor": 1
}
